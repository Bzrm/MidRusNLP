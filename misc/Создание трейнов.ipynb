{
 "cells": [
  {
   "cell_type": "code",
   "execution_count": 1,
   "metadata": {},
   "outputs": [],
   "source": [
    "import re\n",
    "import os\n",
    "import csv\n",
    "import random"
   ]
  },
  {
   "cell_type": "code",
   "execution_count": 9,
   "metadata": {},
   "outputs": [],
   "source": [
    "def csv_opener(fname):\n",
    "    info = []\n",
    "    with open(fname, \"r\", encoding = 'utf-8') as file:\n",
    "        reader = csv.reader(file)\n",
    "        for row in reader:\n",
    "            info.append(row)\n",
    "    return info\n",
    "\n",
    "def opener(fname):\n",
    "    f = open(fname, encoding = 'utf-8')\n",
    "    text = f.read()\n",
    "    f.close()\n",
    "    return text\n",
    "\n",
    "def appender(result, fname):\n",
    "    f = open(fname, \"a\", encoding = 'utf-8')\n",
    "    f.write(result)\n",
    "    f.close()"
   ]
  },
  {
   "cell_type": "code",
   "execution_count": 3,
   "metadata": {},
   "outputs": [],
   "source": [
    "final_table = csv_opener('final_table.csv')"
   ]
  },
  {
   "cell_type": "code",
   "execution_count": 4,
   "metadata": {},
   "outputs": [
    {
     "data": {
      "text/plain": [
       "['afz1/AFZ_1_243',\n",
       " 'Грамота игумена митрополичьего Кузьмина монастыря Протасья с братьею митрополиту Симону с обязательством не осваивать и не отчуждать пожалованных им на оброк рыбных ловель в реках Оке и Клязьме',\n",
       " '1500',\n",
       " '16',\n",
       " 'деловой',\n",
       " '265',\n",
       " 'train']"
      ]
     },
     "execution_count": 4,
     "metadata": {},
     "output_type": "execute_result"
    }
   ],
   "source": [
    "final_table[0]"
   ]
  },
  {
   "cell_type": "code",
   "execution_count": 5,
   "metadata": {},
   "outputs": [],
   "source": [
    "#желаемый размер трейна в токенах\n",
    "amount = 10000"
   ]
  },
  {
   "cell_type": "code",
   "execution_count": null,
   "metadata": {},
   "outputs": [],
   "source": [
    "piece_size = 0\n",
    "piece_list = []\n",
    "while piece_size < amount:\n",
    "    doc = random.choice(final_table) \n",
    "    if doc[0] not in piece_list:\n",
    "        if doc[6] == 'train':\n",
    "            piece_list.append(doc[0])\n",
    "            piece_size += int(doc[5])\n",
    "piece_size"
   ]
  },
  {
   "cell_type": "code",
   "execution_count": null,
   "metadata": {},
   "outputs": [],
   "source": [
    "piece_list"
   ]
  },
  {
   "cell_type": "code",
   "execution_count": null,
   "metadata": {},
   "outputs": [],
   "source": [
    "for path in piece_list:\n",
    "    text = opener('{}.txt'.format(path))\n",
    "    print(path)\n",
    "    appender(text, 'One_more_train.txt')"
   ]
  }
 ],
 "metadata": {
  "kernelspec": {
   "display_name": "Python 3",
   "language": "python",
   "name": "python3"
  },
  "language_info": {
   "codemirror_mode": {
    "name": "ipython",
    "version": 3
   },
   "file_extension": ".py",
   "mimetype": "text/x-python",
   "name": "python",
   "nbconvert_exporter": "python",
   "pygments_lexer": "ipython3",
   "version": "3.7.6"
  }
 },
 "nbformat": 4,
 "nbformat_minor": 4
}
